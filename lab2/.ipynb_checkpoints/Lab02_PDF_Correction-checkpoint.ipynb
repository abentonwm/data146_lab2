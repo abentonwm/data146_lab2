{
 "cells": [
  {
   "cell_type": "markdown",
   "metadata": {},
   "source": [
    "## This notebook contains some modifications to the code you will see in the videos for Lab02!"
   ]
  },
  {
   "cell_type": "code",
   "execution_count": 1,
   "metadata": {},
   "outputs": [
    {
     "name": "stdout",
     "output_type": "stream",
     "text": [
      "https://thedatadoctor.io/wp-content/uploads/2019/07/fiscal_wm.pdf\n"
     ]
    }
   ],
   "source": [
    "import requests\n",
    "#url = \"https://rga.lis.virginia.gov/Published/2017/RD309/PDF\"\n",
    "url = \"https://thedatadoctor.io/wp-content/uploads/2019/07/fiscal_wm.pdf\"\n",
    "print(url)"
   ]
  },
  {
   "cell_type": "code",
   "execution_count": 2,
   "metadata": {},
   "outputs": [],
   "source": [
    "r = requests.get(url)"
   ]
  },
  {
   "cell_type": "code",
   "execution_count": 3,
   "metadata": {},
   "outputs": [],
   "source": [
    "with open(\"./fiscal_wm.pdf\", 'wb') as f:\n",
    "    f.write(r.content)"
   ]
  },
  {
   "cell_type": "code",
   "execution_count": 4,
   "metadata": {},
   "outputs": [],
   "source": [
    "# The first time you try to run pdfplumber, it will not be installed\n",
    "# Uncomment the below line to install it:\n",
    "#!pip install pdfplumber\n",
    "%matplotlib inline\n",
    "import pandas as pd\n",
    "import pdfplumber"
   ]
  },
  {
   "cell_type": "code",
   "execution_count": 5,
   "metadata": {},
   "outputs": [
    {
     "data": {
      "text/plain": [
       "<pdfplumber.page.Page at 0x7f1d50e66590>"
      ]
     },
     "execution_count": 5,
     "metadata": {},
     "output_type": "execute_result"
    }
   ],
   "source": [
    "pdf = pdfplumber.open(\"./fiscal_wm.pdf\")\n",
    "page = pdf.pages[8]\n",
    "page"
   ]
  },
  {
   "cell_type": "code",
   "execution_count": 6,
   "metadata": {},
   "outputs": [],
   "source": [
    "# IMPORTANT!!!\n",
    "# This is slightly different than what is explained in the video!\n",
    "# Make sure to do this, otherwise you might not be working with the same table!\n",
    "tables=page.extract_tables()\n",
    "table = tables[0]"
   ]
  },
  {
   "cell_type": "code",
   "execution_count": 7,
   "metadata": {},
   "outputs": [
    {
     "data": {
      "text/html": [
       "<div>\n",
       "<style scoped>\n",
       "    .dataframe tbody tr th:only-of-type {\n",
       "        vertical-align: middle;\n",
       "    }\n",
       "\n",
       "    .dataframe tbody tr th {\n",
       "        vertical-align: top;\n",
       "    }\n",
       "\n",
       "    .dataframe thead th {\n",
       "        text-align: right;\n",
       "    }\n",
       "</style>\n",
       "<table border=\"1\" class=\"dataframe\">\n",
       "  <thead>\n",
       "    <tr style=\"text-align: right;\">\n",
       "      <th></th>\n",
       "      <th>0</th>\n",
       "      <th>1</th>\n",
       "      <th>2</th>\n",
       "      <th>3</th>\n",
       "      <th>4</th>\n",
       "    </tr>\n",
       "  </thead>\n",
       "  <tbody>\n",
       "    <tr>\n",
       "      <th>0</th>\n",
       "      <td>Note:  If you do not have actual amounts for T...</td>\n",
       "      <td>None</td>\n",
       "      <td>None</td>\n",
       "      <td>None</td>\n",
       "      <td>None</td>\n",
       "    </tr>\n",
       "    <tr>\n",
       "      <th>1</th>\n",
       "      <td>Allocation of Tuition Revenue Used for Student...</td>\n",
       "      <td>None</td>\n",
       "      <td>None</td>\n",
       "      <td>None</td>\n",
       "      <td>None</td>\n",
       "    </tr>\n",
       "    <tr>\n",
       "      <th>2</th>\n",
       "      <td>2015-16 (Actual)</td>\n",
       "      <td>None</td>\n",
       "      <td>None</td>\n",
       "      <td>None</td>\n",
       "      <td>None</td>\n",
       "    </tr>\n",
       "    <tr>\n",
       "      <th>3</th>\n",
       "      <td>T&amp;F Used for Financial Aid</td>\n",
       "      <td>Gross Tuition \\nRevenue</td>\n",
       "      <td>Tuition Revenue \\nfor Financial Aid \\n(Program...</td>\n",
       "      <td>% Revenue for \\nFinancial Aid</td>\n",
       "      <td>Distribution of \\nFinancial Aid</td>\n",
       "    </tr>\n",
       "    <tr>\n",
       "      <th>4</th>\n",
       "      <td>Undergraduate, In-State</td>\n",
       "      <td>$50,045,200</td>\n",
       "      <td>7,293,000</td>\n",
       "      <td>14.6%</td>\n",
       "      <td>$13,672,000</td>\n",
       "    </tr>\n",
       "    <tr>\n",
       "      <th>5</th>\n",
       "      <td>Undergraduate, Out-of-State</td>\n",
       "      <td>$71,713,400</td>\n",
       "      <td>10,450,700</td>\n",
       "      <td>14.6%</td>\n",
       "      <td>$4,071,700</td>\n",
       "    </tr>\n",
       "    <tr>\n",
       "      <th>6</th>\n",
       "      <td>Graduate, In-State</td>\n",
       "      <td>$10,182,100</td>\n",
       "      <td>$2,405,000</td>\n",
       "      <td>23.6%</td>\n",
       "      <td>$1,358,600</td>\n",
       "    </tr>\n",
       "    <tr>\n",
       "      <th>7</th>\n",
       "      <td>Graduate, Out-of-State</td>\n",
       "      <td>$8,623,100</td>\n",
       "      <td>$2,036,700</td>\n",
       "      <td>23.6%</td>\n",
       "      <td>$3,083,100</td>\n",
       "    </tr>\n",
       "    <tr>\n",
       "      <th>8</th>\n",
       "      <td>First Professional, In-State</td>\n",
       "      <td>$4,670,300</td>\n",
       "      <td>$1,244,500</td>\n",
       "      <td>26.6%</td>\n",
       "      <td>$1,519,400</td>\n",
       "    </tr>\n",
       "    <tr>\n",
       "      <th>9</th>\n",
       "      <td>First Professional, Out-of-State</td>\n",
       "      <td>$13,898,900</td>\n",
       "      <td>$3,703,700</td>\n",
       "      <td>26.6%</td>\n",
       "      <td>$3,428,800</td>\n",
       "    </tr>\n",
       "    <tr>\n",
       "      <th>10</th>\n",
       "      <td>Total</td>\n",
       "      <td>$159,133,000</td>\n",
       "      <td>$27,133,600</td>\n",
       "      <td>17.1%</td>\n",
       "      <td>$27,133,600</td>\n",
       "    </tr>\n",
       "    <tr>\n",
       "      <th>11</th>\n",
       "      <td>In-State Sub-Total</td>\n",
       "      <td>$64,897,600</td>\n",
       "      <td>$10,942,500</td>\n",
       "      <td>16.9%</td>\n",
       "      <td>$16,550,000</td>\n",
       "    </tr>\n",
       "  </tbody>\n",
       "</table>\n",
       "</div>"
      ],
      "text/plain": [
       "                                                    0  \\\n",
       "0   Note:  If you do not have actual amounts for T...   \n",
       "1   Allocation of Tuition Revenue Used for Student...   \n",
       "2                                    2015-16 (Actual)   \n",
       "3                          T&F Used for Financial Aid   \n",
       "4                             Undergraduate, In-State   \n",
       "5                         Undergraduate, Out-of-State   \n",
       "6                                  Graduate, In-State   \n",
       "7                              Graduate, Out-of-State   \n",
       "8                        First Professional, In-State   \n",
       "9                    First Professional, Out-of-State   \n",
       "10                                              Total   \n",
       "11                                 In-State Sub-Total   \n",
       "\n",
       "                          1  \\\n",
       "0                      None   \n",
       "1                      None   \n",
       "2                      None   \n",
       "3   Gross Tuition \\nRevenue   \n",
       "4               $50,045,200   \n",
       "5               $71,713,400   \n",
       "6               $10,182,100   \n",
       "7                $8,623,100   \n",
       "8                $4,670,300   \n",
       "9               $13,898,900   \n",
       "10             $159,133,000   \n",
       "11              $64,897,600   \n",
       "\n",
       "                                                    2  \\\n",
       "0                                                None   \n",
       "1                                                None   \n",
       "2                                                None   \n",
       "3   Tuition Revenue \\nfor Financial Aid \\n(Program...   \n",
       "4                                           7,293,000   \n",
       "5                                          10,450,700   \n",
       "6                                          $2,405,000   \n",
       "7                                          $2,036,700   \n",
       "8                                          $1,244,500   \n",
       "9                                          $3,703,700   \n",
       "10                                        $27,133,600   \n",
       "11                                        $10,942,500   \n",
       "\n",
       "                                3                                4  \n",
       "0                            None                             None  \n",
       "1                            None                             None  \n",
       "2                            None                             None  \n",
       "3   % Revenue for \\nFinancial Aid  Distribution of \\nFinancial Aid  \n",
       "4                           14.6%                      $13,672,000  \n",
       "5                           14.6%                       $4,071,700  \n",
       "6                           23.6%                       $1,358,600  \n",
       "7                           23.6%                       $3,083,100  \n",
       "8                           26.6%                       $1,519,400  \n",
       "9                           26.6%                       $3,428,800  \n",
       "10                          17.1%                      $27,133,600  \n",
       "11                          16.9%                      $16,550,000  "
      ]
     },
     "execution_count": 7,
     "metadata": {},
     "output_type": "execute_result"
    }
   ],
   "source": [
    "# At this point, you should be working with the same table that is shown in the video\n",
    "df = pd.DataFrame(table)\n",
    "df"
   ]
  },
  {
   "cell_type": "code",
   "execution_count": null,
   "metadata": {},
   "outputs": [],
   "source": []
  }
 ],
 "metadata": {
  "kernelspec": {
   "display_name": "Python 3",
   "language": "python",
   "name": "python3"
  },
  "language_info": {
   "codemirror_mode": {
    "name": "ipython",
    "version": 3
   },
   "file_extension": ".py",
   "mimetype": "text/x-python",
   "name": "python",
   "nbconvert_exporter": "python",
   "pygments_lexer": "ipython3",
   "version": "3.7.4"
  }
 },
 "nbformat": 4,
 "nbformat_minor": 4
}
